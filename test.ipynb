{
 "cells": [
  {
   "cell_type": "code",
   "execution_count": 1,
   "metadata": {},
   "outputs": [
    {
     "name": "stderr",
     "output_type": "stream",
     "text": [
      "/var/folders/4s/gb51cxx975xgdgnzpf1r7mr40000gp/T/ipykernel_2466/2904192211.py:10: DeprecationWarning: \n",
      "Pyarrow will become a required dependency of pandas in the next major release of pandas (pandas 3.0),\n",
      "(to allow more performant data types, such as the Arrow string type, and better interoperability with other libraries)\n",
      "but was not found to be installed on your system.\n",
      "If this would cause problems for you,\n",
      "please provide us feedback at https://github.com/pandas-dev/pandas/issues/54466\n",
      "        \n",
      "  import pandas as pd\n"
     ]
    }
   ],
   "source": [
    "\"\"\"\n",
    "MongoDB Database Connection and Operations Module\n",
    "\n",
    "This module provides functions to connect to a MongoDB database\n",
    "and perform various data extraction operations.\n",
    "\"\"\"\n",
    "\n",
    "import pymongo\n",
    "from pymongo import MongoClient\n",
    "import pandas as pd\n",
    "import json\n",
    "from datetime import datetime\n",
    "import os\n",
    "from urllib.parse import quote_plus\n",
    "\n",
    "# Database connection constants\n",
    "USER_NAME = \"alfred\"\n",
    "PASS = \"alfred-coco-cola\"\n",
    "MONGO_CLIENT = 'alfred-coco-cola'\n",
    "MONGO_COLLECTION = 'email_threads'\n",
    "MONGO_HOST = '172.178.91.142'\n",
    "MONGO_PORT = 27017\n",
    "\n"
   ]
  },
  {
   "cell_type": "code",
   "execution_count": null,
   "metadata": {},
   "outputs": [
    {
     "ename": "ServerSelectionTimeoutError",
     "evalue": "localhost:27017: [Errno 61] Connection refused, Timeout: 30s, Topology Description: <TopologyDescription id: 680774f04fbaa6c633a27322, topology_type: Unknown, servers: [<ServerDescription ('localhost', 27017) server_type: Unknown, rtt: None, error=AutoReconnect('localhost:27017: [Errno 61] Connection refused')>]>",
     "output_type": "error",
     "traceback": [
      "\u001b[31m---------------------------------------------------------------------------\u001b[39m",
      "\u001b[31mServerSelectionTimeoutError\u001b[39m               Traceback (most recent call last)",
      "\u001b[36mCell\u001b[39m\u001b[36m \u001b[39m\u001b[32mIn[4]\u001b[39m\u001b[32m, line 14\u001b[39m\n\u001b[32m     11\u001b[39m collection = db[\u001b[33m'\u001b[39m\u001b[33memail_threads\u001b[39m\u001b[33m'\u001b[39m]  \u001b[38;5;66;03m# Access the email_threads collection\u001b[39;00m\n\u001b[32m     13\u001b[39m \u001b[38;5;66;03m# Fetch all documents from the collection\u001b[39;00m\n\u001b[32m---> \u001b[39m\u001b[32m14\u001b[39m email_threads = \u001b[38;5;28;43mlist\u001b[39;49m\u001b[43m(\u001b[49m\u001b[43mcollection\u001b[49m\u001b[43m.\u001b[49m\u001b[43mfind\u001b[49m\u001b[43m(\u001b[49m\u001b[43m)\u001b[49m\u001b[43m)\u001b[49m\n\u001b[32m     16\u001b[39m \u001b[38;5;66;03m# Print the count of documents\u001b[39;00m\n\u001b[32m     17\u001b[39m \u001b[38;5;28mprint\u001b[39m(\u001b[33mf\u001b[39m\u001b[33m\"\u001b[39m\u001b[33mTotal documents in email_threads collection: \u001b[39m\u001b[38;5;132;01m{\u001b[39;00m\u001b[38;5;28mlen\u001b[39m(email_threads)\u001b[38;5;132;01m}\u001b[39;00m\u001b[33m\"\u001b[39m)\n",
      "\u001b[36mFile \u001b[39m\u001b[32m~/Desktop/prompt-pulse-insights-main/.venv/lib/python3.13/site-packages/pymongo/cursor.py:1248\u001b[39m, in \u001b[36mCursor.next\u001b[39m\u001b[34m(self)\u001b[39m\n\u001b[32m   1246\u001b[39m \u001b[38;5;28;01mif\u001b[39;00m \u001b[38;5;28mself\u001b[39m.__empty:\n\u001b[32m   1247\u001b[39m     \u001b[38;5;28;01mraise\u001b[39;00m \u001b[38;5;167;01mStopIteration\u001b[39;00m\n\u001b[32m-> \u001b[39m\u001b[32m1248\u001b[39m \u001b[38;5;28;01mif\u001b[39;00m \u001b[38;5;28mlen\u001b[39m(\u001b[38;5;28mself\u001b[39m.__data) \u001b[38;5;129;01mor\u001b[39;00m \u001b[38;5;28;43mself\u001b[39;49m\u001b[43m.\u001b[49m\u001b[43m_refresh\u001b[49m\u001b[43m(\u001b[49m\u001b[43m)\u001b[49m:\n\u001b[32m   1249\u001b[39m     \u001b[38;5;28;01mreturn\u001b[39;00m \u001b[38;5;28mself\u001b[39m.__data.popleft()\n\u001b[32m   1250\u001b[39m \u001b[38;5;28;01melse\u001b[39;00m:\n",
      "\u001b[36mFile \u001b[39m\u001b[32m~/Desktop/prompt-pulse-insights-main/.venv/lib/python3.13/site-packages/pymongo/cursor.py:1139\u001b[39m, in \u001b[36mCursor._refresh\u001b[39m\u001b[34m(self)\u001b[39m\n\u001b[32m   1136\u001b[39m     \u001b[38;5;28;01mreturn\u001b[39;00m \u001b[38;5;28mlen\u001b[39m(\u001b[38;5;28mself\u001b[39m.__data)\n\u001b[32m   1138\u001b[39m \u001b[38;5;28;01mif\u001b[39;00m \u001b[38;5;129;01mnot\u001b[39;00m \u001b[38;5;28mself\u001b[39m.__session:\n\u001b[32m-> \u001b[39m\u001b[32m1139\u001b[39m     \u001b[38;5;28mself\u001b[39m.__session = \u001b[38;5;28;43mself\u001b[39;49m\u001b[43m.\u001b[49m\u001b[43m__collection\u001b[49m\u001b[43m.\u001b[49m\u001b[43mdatabase\u001b[49m\u001b[43m.\u001b[49m\u001b[43mclient\u001b[49m\u001b[43m.\u001b[49m\u001b[43m_ensure_session\u001b[49m\u001b[43m(\u001b[49m\u001b[43m)\u001b[49m\n\u001b[32m   1141\u001b[39m \u001b[38;5;28;01mif\u001b[39;00m \u001b[38;5;28mself\u001b[39m.__id \u001b[38;5;129;01mis\u001b[39;00m \u001b[38;5;28;01mNone\u001b[39;00m:  \u001b[38;5;66;03m# Query\u001b[39;00m\n\u001b[32m   1142\u001b[39m     \u001b[38;5;28;01mif\u001b[39;00m (\u001b[38;5;28mself\u001b[39m.__min \u001b[38;5;129;01mor\u001b[39;00m \u001b[38;5;28mself\u001b[39m.__max) \u001b[38;5;129;01mand\u001b[39;00m \u001b[38;5;129;01mnot\u001b[39;00m \u001b[38;5;28mself\u001b[39m.__hint:\n",
      "\u001b[36mFile \u001b[39m\u001b[32m~/Desktop/prompt-pulse-insights-main/.venv/lib/python3.13/site-packages/pymongo/mongo_client.py:1740\u001b[39m, in \u001b[36mMongoClient._ensure_session\u001b[39m\u001b[34m(self, session)\u001b[39m\n\u001b[32m   1735\u001b[39m     \u001b[38;5;28;01mreturn\u001b[39;00m session\n\u001b[32m   1737\u001b[39m \u001b[38;5;28;01mtry\u001b[39;00m:\n\u001b[32m   1738\u001b[39m     \u001b[38;5;66;03m# Don't make implicit sessions causally consistent. Applications\u001b[39;00m\n\u001b[32m   1739\u001b[39m     \u001b[38;5;66;03m# should always opt-in.\u001b[39;00m\n\u001b[32m-> \u001b[39m\u001b[32m1740\u001b[39m     \u001b[38;5;28;01mreturn\u001b[39;00m \u001b[38;5;28;43mself\u001b[39;49m\u001b[43m.\u001b[49m\u001b[43m__start_session\u001b[49m\u001b[43m(\u001b[49m\u001b[38;5;28;43;01mTrue\u001b[39;49;00m\u001b[43m,\u001b[49m\u001b[43m \u001b[49m\u001b[43mcausal_consistency\u001b[49m\u001b[43m=\u001b[49m\u001b[38;5;28;43;01mFalse\u001b[39;49;00m\u001b[43m)\u001b[49m\n\u001b[32m   1741\u001b[39m \u001b[38;5;28;01mexcept\u001b[39;00m (ConfigurationError, InvalidOperation):\n\u001b[32m   1742\u001b[39m     \u001b[38;5;66;03m# Sessions not supported.\u001b[39;00m\n\u001b[32m   1743\u001b[39m     \u001b[38;5;28;01mreturn\u001b[39;00m \u001b[38;5;28;01mNone\u001b[39;00m\n",
      "\u001b[36mFile \u001b[39m\u001b[32m~/Desktop/prompt-pulse-insights-main/.venv/lib/python3.13/site-packages/pymongo/mongo_client.py:1685\u001b[39m, in \u001b[36mMongoClient.__start_session\u001b[39m\u001b[34m(self, implicit, **kwargs)\u001b[39m\n\u001b[32m   1682\u001b[39m \u001b[38;5;28;01mdef\u001b[39;00m\u001b[38;5;250m \u001b[39m\u001b[34m__start_session\u001b[39m(\u001b[38;5;28mself\u001b[39m, implicit, **kwargs):\n\u001b[32m   1683\u001b[39m     \u001b[38;5;66;03m# Raises ConfigurationError if sessions are not supported.\u001b[39;00m\n\u001b[32m   1684\u001b[39m     \u001b[38;5;28;01mif\u001b[39;00m implicit:\n\u001b[32m-> \u001b[39m\u001b[32m1685\u001b[39m         \u001b[38;5;28;43mself\u001b[39;49m\u001b[43m.\u001b[49m\u001b[43m_topology\u001b[49m\u001b[43m.\u001b[49m\u001b[43m_check_implicit_session_support\u001b[49m\u001b[43m(\u001b[49m\u001b[43m)\u001b[49m\n\u001b[32m   1686\u001b[39m         server_session = _EmptyServerSession()\n\u001b[32m   1687\u001b[39m     \u001b[38;5;28;01melse\u001b[39;00m:\n",
      "\u001b[36mFile \u001b[39m\u001b[32m~/Desktop/prompt-pulse-insights-main/.venv/lib/python3.13/site-packages/pymongo/topology.py:538\u001b[39m, in \u001b[36mTopology._check_implicit_session_support\u001b[39m\u001b[34m(self)\u001b[39m\n\u001b[32m    536\u001b[39m \u001b[38;5;28;01mdef\u001b[39;00m\u001b[38;5;250m \u001b[39m\u001b[34m_check_implicit_session_support\u001b[39m(\u001b[38;5;28mself\u001b[39m):\n\u001b[32m    537\u001b[39m     \u001b[38;5;28;01mwith\u001b[39;00m \u001b[38;5;28mself\u001b[39m._lock:\n\u001b[32m--> \u001b[39m\u001b[32m538\u001b[39m         \u001b[38;5;28;43mself\u001b[39;49m\u001b[43m.\u001b[49m\u001b[43m_check_session_support\u001b[49m\u001b[43m(\u001b[49m\u001b[43m)\u001b[49m\n",
      "\u001b[36mFile \u001b[39m\u001b[32m~/Desktop/prompt-pulse-insights-main/.venv/lib/python3.13/site-packages/pymongo/topology.py:554\u001b[39m, in \u001b[36mTopology._check_session_support\u001b[39m\u001b[34m(self)\u001b[39m\n\u001b[32m    550\u001b[39m         \u001b[38;5;28mself\u001b[39m._select_servers_loop(\n\u001b[32m    551\u001b[39m             any_server_selector, \u001b[38;5;28mself\u001b[39m.get_server_selection_timeout(), \u001b[38;5;28;01mNone\u001b[39;00m\n\u001b[32m    552\u001b[39m         )\n\u001b[32m    553\u001b[39m \u001b[38;5;28;01melif\u001b[39;00m \u001b[38;5;129;01mnot\u001b[39;00m \u001b[38;5;28mself\u001b[39m._description.readable_servers:\n\u001b[32m--> \u001b[39m\u001b[32m554\u001b[39m     \u001b[38;5;28;43mself\u001b[39;49m\u001b[43m.\u001b[49m\u001b[43m_select_servers_loop\u001b[49m\u001b[43m(\u001b[49m\n\u001b[32m    555\u001b[39m \u001b[43m        \u001b[49m\u001b[43mreadable_server_selector\u001b[49m\u001b[43m,\u001b[49m\u001b[43m \u001b[49m\u001b[38;5;28;43mself\u001b[39;49m\u001b[43m.\u001b[49m\u001b[43mget_server_selection_timeout\u001b[49m\u001b[43m(\u001b[49m\u001b[43m)\u001b[49m\u001b[43m,\u001b[49m\u001b[43m \u001b[49m\u001b[38;5;28;43;01mNone\u001b[39;49;00m\n\u001b[32m    556\u001b[39m \u001b[43m    \u001b[49m\u001b[43m)\u001b[49m\n\u001b[32m    558\u001b[39m session_timeout = \u001b[38;5;28mself\u001b[39m._description.logical_session_timeout_minutes\n\u001b[32m    559\u001b[39m \u001b[38;5;28;01mif\u001b[39;00m session_timeout \u001b[38;5;129;01mis\u001b[39;00m \u001b[38;5;28;01mNone\u001b[39;00m:\n",
      "\u001b[36mFile \u001b[39m\u001b[32m~/Desktop/prompt-pulse-insights-main/.venv/lib/python3.13/site-packages/pymongo/topology.py:238\u001b[39m, in \u001b[36mTopology._select_servers_loop\u001b[39m\u001b[34m(self, selector, timeout, address)\u001b[39m\n\u001b[32m    235\u001b[39m \u001b[38;5;28;01mwhile\u001b[39;00m \u001b[38;5;129;01mnot\u001b[39;00m server_descriptions:\n\u001b[32m    236\u001b[39m     \u001b[38;5;66;03m# No suitable servers.\u001b[39;00m\n\u001b[32m    237\u001b[39m     \u001b[38;5;28;01mif\u001b[39;00m timeout == \u001b[32m0\u001b[39m \u001b[38;5;129;01mor\u001b[39;00m now > end_time:\n\u001b[32m--> \u001b[39m\u001b[32m238\u001b[39m         \u001b[38;5;28;01mraise\u001b[39;00m ServerSelectionTimeoutError(\n\u001b[32m    239\u001b[39m             \u001b[33m\"\u001b[39m\u001b[38;5;132;01m%s\u001b[39;00m\u001b[33m, Timeout: \u001b[39m\u001b[38;5;132;01m%s\u001b[39;00m\u001b[33ms, Topology Description: \u001b[39m\u001b[38;5;132;01m%r\u001b[39;00m\u001b[33m\"\u001b[39m\n\u001b[32m    240\u001b[39m             % (\u001b[38;5;28mself\u001b[39m._error_message(selector), timeout, \u001b[38;5;28mself\u001b[39m.description)\n\u001b[32m    241\u001b[39m         )\n\u001b[32m    243\u001b[39m     \u001b[38;5;28mself\u001b[39m._ensure_opened()\n\u001b[32m    244\u001b[39m     \u001b[38;5;28mself\u001b[39m._request_check_all()\n",
      "\u001b[31mServerSelectionTimeoutError\u001b[39m: localhost:27017: [Errno 61] Connection refused, Timeout: 30s, Topology Description: <TopologyDescription id: 680774f04fbaa6c633a27322, topology_type: Unknown, servers: [<ServerDescription ('localhost', 27017) server_type: Unknown, rtt: None, error=AutoReconnect('localhost:27017: [Errno 61] Connection refused')>]>"
     ]
    }
   ],
   "source": [
    "import pymongo\n",
    "import pandas as pd\n",
    "from pymongo import MongoClient\n",
    "import json\n",
    "from bson import json_util\n",
    "\n",
    "# Connect to the MongoDB database\n",
    "# Assuming the connection details are the same as in the app.py file\n",
    "client = MongoClient('localhost', 27017)  # Default MongoDB connection\n",
    "db = client['alfred-coco-cola']  # Use the database name from the codebase\n",
    "collection = db['email_threads']  # Access the email_threads collection\n",
    "\n",
    "# Fetch all documents from the collection\n",
    "email_threads = list(collection.find())\n",
    "\n",
    "# Print the count of documents\n",
    "print(f\"Total documents in email_threads collection: {len(email_threads)}\")\n",
    "\n",
    "# Convert to a more readable format\n",
    "# This handles MongoDB-specific types like ObjectId\n",
    "def parse_json(data):\n",
    "    return json.loads(json_util.dumps(data))\n",
    "\n",
    "# Display the first document to see its structure\n",
    "if email_threads:\n",
    "    print(\"\\nSample document structure:\")\n",
    "    print(json.dumps(parse_json(email_threads[0]), indent=2))\n",
    "\n",
    "# Convert the data to a pandas DataFrame for easier analysis\n",
    "# First flatten the documents to handle nested structures\n",
    "flat_data = [parse_json(doc) for doc in email_threads]\n",
    "df = pd.json_normalize(flat_data)\n",
    "\n",
    "# Display the DataFrame\n",
    "print(\"\\nDataFrame view of email_threads:\")\n",
    "display(df)\n",
    "\n",
    "# If you want to see all documents in detail\n",
    "print(\"\\nAll documents in email_threads:\")\n",
    "for i, thread in enumerate(email_threads):\n",
    "    print(f\"\\n--- Document {i+1} ---\")\n",
    "    print(json.dumps(parse_json(thread), indent=2))"
   ]
  },
  {
   "cell_type": "code",
   "execution_count": null,
   "metadata": {},
   "outputs": [],
   "source": []
  }
 ],
 "metadata": {
  "kernelspec": {
   "display_name": ".venv",
   "language": "python",
   "name": "python3"
  },
  "language_info": {
   "codemirror_mode": {
    "name": "ipython",
    "version": 3
   },
   "file_extension": ".py",
   "mimetype": "text/x-python",
   "name": "python",
   "nbconvert_exporter": "python",
   "pygments_lexer": "ipython3",
   "version": "3.13.2"
  }
 },
 "nbformat": 4,
 "nbformat_minor": 2
}
